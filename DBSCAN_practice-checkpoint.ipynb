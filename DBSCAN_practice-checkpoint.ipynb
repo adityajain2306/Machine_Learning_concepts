{
 "cells": [
  {
   "cell_type": "code",
   "execution_count": 1,
   "metadata": {
    "id": "ENaYI4VC0rJl"
   },
   "outputs": [],
   "source": [
    "import pandas as pd\n",
    "df = pd.read_csv(\"diamonds.csv\")"
   ]
  },
  {
   "cell_type": "code",
   "execution_count": 2,
   "metadata": {
    "colab": {
     "base_uri": "https://localhost:8080/"
    },
    "executionInfo": {
     "elapsed": 9,
     "status": "ok",
     "timestamp": 1673860311303,
     "user": {
      "displayName": "IACSD Akurdi",
      "userId": "10433988175144222979"
     },
     "user_tz": -330
    },
    "id": "S1w1N23N2U1V",
    "outputId": "3408d889-372f-4e56-d45a-0b7bb96f17d0"
   },
   "outputs": [
    {
     "data": {
      "text/plain": [
       "(53940, 11)"
      ]
     },
     "execution_count": 2,
     "metadata": {},
     "output_type": "execute_result"
    }
   ],
   "source": [
    "df.shape"
   ]
  },
  {
   "cell_type": "code",
   "execution_count": 3,
   "metadata": {
    "colab": {
     "base_uri": "https://localhost:8080/"
    },
    "executionInfo": {
     "elapsed": 5,
     "status": "ok",
     "timestamp": 1673860529758,
     "user": {
      "displayName": "IACSD Akurdi",
      "userId": "10433988175144222979"
     },
     "user_tz": -330
    },
    "id": "rGKJFHL-3KK9",
    "outputId": "e151e540-f410-4597-fe93-f0ad4384e00e"
   },
   "outputs": [
    {
     "name": "stdout",
     "output_type": "stream",
     "text": [
      "<class 'pandas.core.frame.DataFrame'>\n",
      "RangeIndex: 53940 entries, 0 to 53939\n",
      "Data columns (total 11 columns):\n",
      " #   Column      Non-Null Count  Dtype  \n",
      "---  ------      --------------  -----  \n",
      " 0   Unnamed: 0  53940 non-null  int64  \n",
      " 1   carat       53940 non-null  float64\n",
      " 2   cut         53940 non-null  object \n",
      " 3   color       53940 non-null  object \n",
      " 4   clarity     53940 non-null  object \n",
      " 5   depth       53940 non-null  float64\n",
      " 6   table       53940 non-null  float64\n",
      " 7   price       53940 non-null  int64  \n",
      " 8   x           53940 non-null  float64\n",
      " 9   y           53940 non-null  float64\n",
      " 10  z           53940 non-null  float64\n",
      "dtypes: float64(6), int64(2), object(3)\n",
      "memory usage: 4.5+ MB\n"
     ]
    }
   ],
   "source": [
    "df.info()"
   ]
  },
  {
   "cell_type": "code",
   "execution_count": 4,
   "metadata": {
    "id": "Px-ccZaK3zEi"
   },
   "outputs": [],
   "source": [
    "df_ohe = pd.get_dummies(df)"
   ]
  },
  {
   "cell_type": "code",
   "execution_count": 5,
   "metadata": {
    "colab": {
     "base_uri": "https://localhost:8080/"
    },
    "executionInfo": {
     "elapsed": 379,
     "status": "ok",
     "timestamp": 1673860777470,
     "user": {
      "displayName": "IACSD Akurdi",
      "userId": "10433988175144222979"
     },
     "user_tz": -330
    },
    "id": "qSHFIACf4Eki",
    "outputId": "cebe970f-5b57-42b3-cfa4-83151e008ba4"
   },
   "outputs": [
    {
     "data": {
      "text/plain": [
       "(53940, 28)"
      ]
     },
     "execution_count": 5,
     "metadata": {},
     "output_type": "execute_result"
    }
   ],
   "source": [
    "df_ohe.shape"
   ]
  },
  {
   "cell_type": "code",
   "execution_count": 6,
   "metadata": {
    "id": "VBWrYKE04LJy"
   },
   "outputs": [],
   "source": [
    "# df_ohe = df_ohe.drop(['Unnamed: 0'],axis=1)\n",
    "df_ohe = df_ohe.iloc[:,1:]"
   ]
  },
  {
   "cell_type": "code",
   "execution_count": 7,
   "metadata": {
    "colab": {
     "base_uri": "https://localhost:8080/"
    },
    "executionInfo": {
     "elapsed": 8,
     "status": "ok",
     "timestamp": 1673860893616,
     "user": {
      "displayName": "IACSD Akurdi",
      "userId": "10433988175144222979"
     },
     "user_tz": -330
    },
    "id": "D8g7SFt24ZYS",
    "outputId": "2ed6e781-9c27-4264-b9fe-07b2ed9af9cf"
   },
   "outputs": [
    {
     "data": {
      "text/plain": [
       "(53940, 27)"
      ]
     },
     "execution_count": 7,
     "metadata": {},
     "output_type": "execute_result"
    }
   ],
   "source": [
    "df_ohe.shape"
   ]
  },
  {
   "cell_type": "code",
   "execution_count": 8,
   "metadata": {
    "colab": {
     "base_uri": "https://localhost:8080/"
    },
    "executionInfo": {
     "elapsed": 8,
     "status": "ok",
     "timestamp": 1673860973327,
     "user": {
      "displayName": "IACSD Akurdi",
      "userId": "10433988175144222979"
     },
     "user_tz": -330
    },
    "id": "fU9Jb6oY4vCx",
    "outputId": "c7110987-6c32-4222-87a8-e8bc62041290"
   },
   "outputs": [
    {
     "name": "stdout",
     "output_type": "stream",
     "text": [
      "<class 'pandas.core.frame.DataFrame'>\n",
      "RangeIndex: 53940 entries, 0 to 53939\n",
      "Data columns (total 27 columns):\n",
      " #   Column         Non-Null Count  Dtype  \n",
      "---  ------         --------------  -----  \n",
      " 0   carat          53940 non-null  float64\n",
      " 1   depth          53940 non-null  float64\n",
      " 2   table          53940 non-null  float64\n",
      " 3   price          53940 non-null  int64  \n",
      " 4   x              53940 non-null  float64\n",
      " 5   y              53940 non-null  float64\n",
      " 6   z              53940 non-null  float64\n",
      " 7   cut_Fair       53940 non-null  uint8  \n",
      " 8   cut_Good       53940 non-null  uint8  \n",
      " 9   cut_Ideal      53940 non-null  uint8  \n",
      " 10  cut_Premium    53940 non-null  uint8  \n",
      " 11  cut_Very Good  53940 non-null  uint8  \n",
      " 12  color_D        53940 non-null  uint8  \n",
      " 13  color_E        53940 non-null  uint8  \n",
      " 14  color_F        53940 non-null  uint8  \n",
      " 15  color_G        53940 non-null  uint8  \n",
      " 16  color_H        53940 non-null  uint8  \n",
      " 17  color_I        53940 non-null  uint8  \n",
      " 18  color_J        53940 non-null  uint8  \n",
      " 19  clarity_I1     53940 non-null  uint8  \n",
      " 20  clarity_IF     53940 non-null  uint8  \n",
      " 21  clarity_SI1    53940 non-null  uint8  \n",
      " 22  clarity_SI2    53940 non-null  uint8  \n",
      " 23  clarity_VS1    53940 non-null  uint8  \n",
      " 24  clarity_VS2    53940 non-null  uint8  \n",
      " 25  clarity_VVS1   53940 non-null  uint8  \n",
      " 26  clarity_VVS2   53940 non-null  uint8  \n",
      "dtypes: float64(6), int64(1), uint8(20)\n",
      "memory usage: 3.9 MB\n"
     ]
    }
   ],
   "source": [
    "df_ohe.info()"
   ]
  },
  {
   "cell_type": "code",
   "execution_count": 9,
   "metadata": {
    "id": "m_IZ_3K86ls-"
   },
   "outputs": [],
   "source": [
    "X = df_ohe"
   ]
  },
  {
   "cell_type": "code",
   "execution_count": null,
   "metadata": {},
   "outputs": [],
   "source": [
    "from sklearn.preprocessing import StandardScaler\n",
    "X = StandardScaler().fit_transform(X)"
   ]
  },
  {
   "cell_type": "code",
   "execution_count": 10,
   "metadata": {
    "id": "ZLCJfJQs6qir"
   },
   "outputs": [],
   "source": [
    "from sklearn.model_selection import train_test_split"
   ]
  },
  {
   "cell_type": "code",
   "execution_count": 11,
   "metadata": {
    "id": "cXf_PVM77ERN"
   },
   "outputs": [],
   "source": [
    "X_train,X_test = train_test_split(X,\n",
    "                                  test_size=0.3,\n",
    "                                  random_state=7)"
   ]
  },
  {
   "cell_type": "code",
   "execution_count": 12,
   "metadata": {
    "colab": {
     "base_uri": "https://localhost:8080/"
    },
    "executionInfo": {
     "elapsed": 381,
     "status": "ok",
     "timestamp": 1673861658236,
     "user": {
      "displayName": "IACSD Akurdi",
      "userId": "10433988175144222979"
     },
     "user_tz": -330
    },
    "id": "WD90fcp37dBF",
    "outputId": "a46b5c45-a914-41bf-eef0-a4ba44d72338"
   },
   "outputs": [
    {
     "data": {
      "text/plain": [
       "((37758, 27), (16182, 27))"
      ]
     },
     "execution_count": 12,
     "metadata": {},
     "output_type": "execute_result"
    }
   ],
   "source": [
    "X_train.shape,X_test.shape"
   ]
  },
  {
   "cell_type": "code",
   "execution_count": 13,
   "metadata": {
    "id": "Ll-BD7UH5MXJ"
   },
   "outputs": [],
   "source": [
    "from sklearn.cluster import KMeans"
   ]
  },
  {
   "cell_type": "code",
   "execution_count": 14,
   "metadata": {
    "id": "H5apnebR5elw"
   },
   "outputs": [],
   "source": [
    "mykmeans = KMeans(3,random_state=7)"
   ]
  },
  {
   "cell_type": "code",
   "execution_count": 15,
   "metadata": {
    "colab": {
     "base_uri": "https://localhost:8080/"
    },
    "executionInfo": {
     "elapsed": 2172,
     "status": "ok",
     "timestamp": 1673861835920,
     "user": {
      "displayName": "IACSD Akurdi",
      "userId": "10433988175144222979"
     },
     "user_tz": -330
    },
    "id": "TRJAPY0T6Qm6",
    "outputId": "e909851d-144e-4f79-ec9c-f22ba353b122"
   },
   "outputs": [
    {
     "data": {
      "text/plain": [
       "KMeans(n_clusters=3, random_state=7)"
      ]
     },
     "execution_count": 15,
     "metadata": {},
     "output_type": "execute_result"
    }
   ],
   "source": [
    "# fit function for training\n",
    "mykmeans.fit(X_train)"
   ]
  },
  {
   "cell_type": "code",
   "execution_count": 16,
   "metadata": {
    "colab": {
     "base_uri": "https://localhost:8080/",
     "height": 221
    },
    "executionInfo": {
     "elapsed": 780,
     "status": "error",
     "timestamp": 1688552597745,
     "user": {
      "displayName": "shantanu pathak",
      "userId": "10566305450164209704"
     },
     "user_tz": -330
    },
    "id": "dS_ibHro8LQr",
    "outputId": "ee8ba680-5bc2-4d10-95e6-194daebd2076"
   },
   "outputs": [],
   "source": [
    "# Do the predictions / testing\n",
    "cluster_nos = mykmeans.predict(X_test)"
   ]
  },
  {
   "cell_type": "code",
   "execution_count": 17,
   "metadata": {
    "colab": {
     "base_uri": "https://localhost:8080/"
    },
    "executionInfo": {
     "elapsed": 360,
     "status": "ok",
     "timestamp": 1673862022373,
     "user": {
      "displayName": "IACSD Akurdi",
      "userId": "10433988175144222979"
     },
     "user_tz": -330
    },
    "id": "tUKtEKrx81UR",
    "outputId": "e7b72e10-32c9-4016-9ff8-f45450a0ae89"
   },
   "outputs": [
    {
     "data": {
      "text/plain": [
       "carat               0.53\n",
       "depth              63.20\n",
       "table              55.00\n",
       "price            1110.00\n",
       "x                   5.17\n",
       "y                   5.18\n",
       "z                   3.27\n",
       "cut_Fair            0.00\n",
       "cut_Good            0.00\n",
       "cut_Ideal           0.00\n",
       "cut_Premium         0.00\n",
       "cut_Very Good       1.00\n",
       "color_D             0.00\n",
       "color_E             0.00\n",
       "color_F             1.00\n",
       "color_G             0.00\n",
       "color_H             0.00\n",
       "color_I             0.00\n",
       "color_J             0.00\n",
       "clarity_I1          0.00\n",
       "clarity_IF          0.00\n",
       "clarity_SI1         0.00\n",
       "clarity_SI2         1.00\n",
       "clarity_VS1         0.00\n",
       "clarity_VS2         0.00\n",
       "clarity_VVS1        0.00\n",
       "clarity_VVS2        0.00\n",
       "Name: 40026, dtype: float64"
      ]
     },
     "execution_count": 17,
     "metadata": {},
     "output_type": "execute_result"
    }
   ],
   "source": [
    "X_test.iloc[0,:]"
   ]
  },
  {
   "cell_type": "code",
   "execution_count": 18,
   "metadata": {
    "colab": {
     "base_uri": "https://localhost:8080/",
     "height": 204
    },
    "executionInfo": {
     "elapsed": 430,
     "status": "error",
     "timestamp": 1688552658509,
     "user": {
      "displayName": "shantanu pathak",
      "userId": "10566305450164209704"
     },
     "user_tz": -330
    },
    "id": "8-PbWJFm8xTz",
    "outputId": "a2df7030-982c-4857-96fb-6033846b0b80"
   },
   "outputs": [
    {
     "data": {
      "text/plain": [
       "0"
      ]
     },
     "execution_count": 18,
     "metadata": {},
     "output_type": "execute_result"
    }
   ],
   "source": [
    "cluster_nos[0]"
   ]
  },
  {
   "cell_type": "code",
   "execution_count": 19,
   "metadata": {
    "colab": {
     "base_uri": "https://localhost:8080/"
    },
    "executionInfo": {
     "elapsed": 351,
     "status": "ok",
     "timestamp": 1673862109984,
     "user": {
      "displayName": "IACSD Akurdi",
      "userId": "10433988175144222979"
     },
     "user_tz": -330
    },
    "id": "Ss0U3NMd9Gsc",
    "outputId": "8a3c94ab-e1c1-4004-b41e-458895a9dc45"
   },
   "outputs": [
    {
     "data": {
      "text/plain": [
       "((16182,), (16182, 27))"
      ]
     },
     "execution_count": 19,
     "metadata": {},
     "output_type": "execute_result"
    }
   ],
   "source": [
    "cluster_nos.shape, X_test.shape"
   ]
  },
  {
   "cell_type": "code",
   "execution_count": 20,
   "metadata": {
    "colab": {
     "base_uri": "https://localhost:8080/"
    },
    "executionInfo": {
     "elapsed": 12,
     "status": "ok",
     "timestamp": 1673863049613,
     "user": {
      "displayName": "IACSD Akurdi",
      "userId": "10433988175144222979"
     },
     "user_tz": -330
    },
    "id": "RsFw73wtAt4c",
    "outputId": "0a4dca59-c63f-4768-e64e-f9905b04c9ad"
   },
   "outputs": [
    {
     "data": {
      "text/plain": [
       "(9848, 27)"
      ]
     },
     "execution_count": 20,
     "metadata": {},
     "output_type": "execute_result"
    }
   ],
   "source": [
    "X_test.loc[cluster_nos == 0,:].shape"
   ]
  },
  {
   "cell_type": "code",
   "execution_count": 21,
   "metadata": {
    "colab": {
     "base_uri": "https://localhost:8080/"
    },
    "executionInfo": {
     "elapsed": 7,
     "status": "ok",
     "timestamp": 1673863066159,
     "user": {
      "displayName": "IACSD Akurdi",
      "userId": "10433988175144222979"
     },
     "user_tz": -330
    },
    "id": "wIOvQi9VA2CU",
    "outputId": "56ae4fd9-95f4-4d01-9fcb-3115ad786717"
   },
   "outputs": [
    {
     "data": {
      "text/plain": [
       "(1684, 27)"
      ]
     },
     "execution_count": 21,
     "metadata": {},
     "output_type": "execute_result"
    }
   ],
   "source": [
    "X_test.loc[cluster_nos == 1,:].shape"
   ]
  },
  {
   "cell_type": "code",
   "execution_count": 22,
   "metadata": {
    "colab": {
     "base_uri": "https://localhost:8080/"
    },
    "executionInfo": {
     "elapsed": 370,
     "status": "ok",
     "timestamp": 1673863084173,
     "user": {
      "displayName": "IACSD Akurdi",
      "userId": "10433988175144222979"
     },
     "user_tz": -330
    },
    "id": "M7fqTmvSA4RT",
    "outputId": "0564ee39-ba75-4c91-eee2-aa4d5528a2d3"
   },
   "outputs": [
    {
     "data": {
      "text/plain": [
       "(4650, 27)"
      ]
     },
     "execution_count": 22,
     "metadata": {},
     "output_type": "execute_result"
    }
   ],
   "source": [
    "X_test.loc[cluster_nos == 2,:].shape"
   ]
  },
  {
   "cell_type": "markdown",
   "metadata": {
    "id": "a1PWXH6bBQnK"
   },
   "source": [
    "# How to decide value of k?\n",
    "\n",
    "we iterate over few values of k ( generally 2 to 10)\n",
    "\n",
    "plot graph of inertia ( WCSS within cluster sum of squares)\n",
    "\n",
    "Check the L-bow and decide right k"
   ]
  },
  {
   "cell_type": "code",
   "execution_count": 23,
   "metadata": {
    "id": "dsqDEXdMCrnJ"
   },
   "outputs": [],
   "source": [
    "inertia_values = []\n",
    "for k in range(2,11):\n",
    "    mykmeans = KMeans(k,random_state=7)\n",
    "    mykmeans.fit(X_train)\n",
    "    inertia_values.append(mykmeans.inertia_)"
   ]
  },
  {
   "cell_type": "code",
   "execution_count": 24,
   "metadata": {
    "colab": {
     "base_uri": "https://localhost:8080/"
    },
    "executionInfo": {
     "elapsed": 372,
     "status": "ok",
     "timestamp": 1673863699973,
     "user": {
      "displayName": "IACSD Akurdi",
      "userId": "10433988175144222979"
     },
     "user_tz": -330
    },
    "id": "oq1xL-FZDRRQ",
    "outputId": "9fc99a7f-4523-4864-a16f-7597c43e9e46"
   },
   "outputs": [
    {
     "data": {
      "text/plain": [
       "[171597904834.222,\n",
       " 72428926612.40575,\n",
       " 39904492633.80141,\n",
       " 26191355626.6102,\n",
       " 17680892885.43607,\n",
       " 12718507033.604027,\n",
       " 9869348677.149763,\n",
       " 7719157520.754612,\n",
       " 6314804115.344105]"
      ]
     },
     "execution_count": 24,
     "metadata": {},
     "output_type": "execute_result"
    }
   ],
   "source": [
    "inertia_values"
   ]
  },
  {
   "cell_type": "code",
   "execution_count": 25,
   "metadata": {
    "colab": {
     "base_uri": "https://localhost:8080/",
     "height": 294
    },
    "executionInfo": {
     "elapsed": 729,
     "status": "ok",
     "timestamp": 1673863953784,
     "user": {
      "displayName": "IACSD Akurdi",
      "userId": "10433988175144222979"
     },
     "user_tz": -330
    },
    "id": "kJqQks06DJkQ",
    "outputId": "ecac1b30-db7f-4fe6-8f9a-0a0e6675fd8f"
   },
   "outputs": [
    {
     "data": {
      "text/plain": [
       "[<matplotlib.lines.Line2D at 0x1451e5f9d0>]"
      ]
     },
     "execution_count": 25,
     "metadata": {},
     "output_type": "execute_result"
    },
    {
     "data": {
      "image/png": "[encoded data removed]",
      "text/plain": [
       "<Figure size 640x480 with 1 Axes>"
      ]
     },
     "metadata": {},
     "output_type": "display_data"
    }
   ],
   "source": [
    "import matplotlib.pyplot as plt\n",
    "plt.plot(list(range(2,11)), inertia_values)"
   ]
  },
  {
   "cell_type": "markdown",
   "metadata": {
    "id": "89gxHstmFpn3"
   },
   "source": [
    "# Evaluation Parameters"
   ]
  },
  {
   "cell_type": "code",
   "execution_count": null,
   "metadata": {
    "id": "J25tbvZfGMh7"
   },
   "outputs": [],
   "source": [
    "from sklearn.metrics import silhouette_score"
   ]
  },
  {
   "cell_type": "code",
   "execution_count": null,
   "metadata": {
    "colab": {
     "base_uri": "https://localhost:8080/"
    },
    "executionInfo": {
     "elapsed": 6870,
     "status": "ok",
     "timestamp": 1673864583790,
     "user": {
      "displayName": "IACSD Akurdi",
      "userId": "10433988175144222979"
     },
     "user_tz": -330
    },
    "id": "5Ebo6_J-GTLa",
    "outputId": "a7b65c99-f1be-40ca-ef2d-5464491cf694"
   },
   "outputs": [
    {
     "data": {
      "text/plain": [
       "0.6628208250209792"
      ]
     },
     "execution_count": 37,
     "metadata": {},
     "output_type": "execute_result"
    }
   ],
   "source": [
    "# two parameters to silhouette_score\n",
    "# X : X_test data\n",
    "# labels : cluster numbers predicted by the algorithm\n",
    "silhouette_score(X_test, cluster_nos)"
   ]
  }
 ],
 "metadata": {
  "colab": {
   "provenance": []
  },
  "kernelspec": {
   "display_name": "Python 3 (ipykernel)",
   "language": "python",
   "name": "python3"
  },
  "language_info": {
   "codemirror_mode": {
    "name": "ipython",
    "version": 3
   },
   "file_extension": ".py",
   "mimetype": "text/x-python",
   "name": "python",
   "nbconvert_exporter": "python",
   "pygments_lexer": "ipython3",
   "version": "3.9.13"
  }
 },
 "nbformat": 4,
 "nbformat_minor": 1
}
