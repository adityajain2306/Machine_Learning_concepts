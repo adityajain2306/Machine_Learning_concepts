{
 "cells": [
  {
   "cell_type": "code",
   "execution_count": 8,
   "id": "c8794599",
   "metadata": {},
   "outputs": [],
   "source": [
    "import pandas as pd\n",
    "df = pd.read_csv('BankChurners.csv')"
   ]
  },
  {
   "cell_type": "code",
   "execution_count": 9,
   "id": "738f518a",
   "metadata": {},
   "outputs": [
    {
     "data": {
      "text/html": [
       "<div>\n",
       "<style scoped>\n",
       "    .dataframe tbody tr th:only-of-type {\n",
       "        vertical-align: middle;\n",
       "    }\n",
       "\n",
       "    .dataframe tbody tr th {\n",
       "        vertical-align: top;\n",
       "    }\n",
       "\n",
       "    .dataframe thead th {\n",
       "        text-align: right;\n",
       "    }\n",
       "</style>\n",
       "<table border=\"1\" class=\"dataframe\">\n",
       "  <thead>\n",
       "    <tr style=\"text-align: right;\">\n",
       "      <th></th>\n",
       "      <th>Attrition_Flag</th>\n",
       "      <th>Customer_Age</th>\n",
       "      <th>Gender</th>\n",
       "      <th>Dependent_count</th>\n",
       "      <th>Education_Level</th>\n",
       "      <th>Marital_Status</th>\n",
       "      <th>Income_Category</th>\n",
       "      <th>Card_Category</th>\n",
       "      <th>Months_on_book</th>\n",
       "      <th>Total_Relationship_Count</th>\n",
       "      <th>Months_Inactive_12_mon</th>\n",
       "      <th>Contacts_Count_12_mon</th>\n",
       "      <th>Credit_Limit</th>\n",
       "      <th>Total_Revolving_Bal</th>\n",
       "      <th>Avg_Open_To_Buy</th>\n",
       "      <th>Total_Amt_Chng_Q4_Q1</th>\n",
       "      <th>Total_Trans_Amt</th>\n",
       "      <th>Total_Trans_Ct</th>\n",
       "      <th>Total_Ct_Chng_Q4_Q1</th>\n",
       "      <th>Avg_Utilization_Ratio</th>\n",
       "    </tr>\n",
       "  </thead>\n",
       "  <tbody>\n",
       "    <tr>\n",
       "      <th>0</th>\n",
       "      <td>Existing Customer</td>\n",
       "      <td>45</td>\n",
       "      <td>M</td>\n",
       "      <td>3</td>\n",
       "      <td>High School</td>\n",
       "      <td>Married</td>\n",
       "      <td>$60K - $80K</td>\n",
       "      <td>Blue</td>\n",
       "      <td>39</td>\n",
       "      <td>5</td>\n",
       "      <td>1</td>\n",
       "      <td>3</td>\n",
       "      <td>12691.0</td>\n",
       "      <td>777</td>\n",
       "      <td>11914.0</td>\n",
       "      <td>1.335</td>\n",
       "      <td>1144</td>\n",
       "      <td>42</td>\n",
       "      <td>1.625</td>\n",
       "      <td>0.061</td>\n",
       "    </tr>\n",
       "    <tr>\n",
       "      <th>1</th>\n",
       "      <td>Existing Customer</td>\n",
       "      <td>49</td>\n",
       "      <td>F</td>\n",
       "      <td>5</td>\n",
       "      <td>Graduate</td>\n",
       "      <td>Single</td>\n",
       "      <td>Less than $40K</td>\n",
       "      <td>Blue</td>\n",
       "      <td>44</td>\n",
       "      <td>6</td>\n",
       "      <td>1</td>\n",
       "      <td>2</td>\n",
       "      <td>8256.0</td>\n",
       "      <td>864</td>\n",
       "      <td>7392.0</td>\n",
       "      <td>1.541</td>\n",
       "      <td>1291</td>\n",
       "      <td>33</td>\n",
       "      <td>3.714</td>\n",
       "      <td>0.105</td>\n",
       "    </tr>\n",
       "    <tr>\n",
       "      <th>2</th>\n",
       "      <td>Existing Customer</td>\n",
       "      <td>51</td>\n",
       "      <td>M</td>\n",
       "      <td>3</td>\n",
       "      <td>Graduate</td>\n",
       "      <td>Married</td>\n",
       "      <td>$80K - $120K</td>\n",
       "      <td>Blue</td>\n",
       "      <td>36</td>\n",
       "      <td>4</td>\n",
       "      <td>1</td>\n",
       "      <td>0</td>\n",
       "      <td>3418.0</td>\n",
       "      <td>0</td>\n",
       "      <td>3418.0</td>\n",
       "      <td>2.594</td>\n",
       "      <td>1887</td>\n",
       "      <td>20</td>\n",
       "      <td>2.333</td>\n",
       "      <td>0.000</td>\n",
       "    </tr>\n",
       "    <tr>\n",
       "      <th>3</th>\n",
       "      <td>Existing Customer</td>\n",
       "      <td>40</td>\n",
       "      <td>F</td>\n",
       "      <td>4</td>\n",
       "      <td>High School</td>\n",
       "      <td>Unknown</td>\n",
       "      <td>Less than $40K</td>\n",
       "      <td>Blue</td>\n",
       "      <td>34</td>\n",
       "      <td>3</td>\n",
       "      <td>4</td>\n",
       "      <td>1</td>\n",
       "      <td>3313.0</td>\n",
       "      <td>2517</td>\n",
       "      <td>796.0</td>\n",
       "      <td>1.405</td>\n",
       "      <td>1171</td>\n",
       "      <td>20</td>\n",
       "      <td>2.333</td>\n",
       "      <td>0.760</td>\n",
       "    </tr>\n",
       "    <tr>\n",
       "      <th>4</th>\n",
       "      <td>Existing Customer</td>\n",
       "      <td>40</td>\n",
       "      <td>M</td>\n",
       "      <td>3</td>\n",
       "      <td>Uneducated</td>\n",
       "      <td>Married</td>\n",
       "      <td>$60K - $80K</td>\n",
       "      <td>Blue</td>\n",
       "      <td>21</td>\n",
       "      <td>5</td>\n",
       "      <td>1</td>\n",
       "      <td>0</td>\n",
       "      <td>4716.0</td>\n",
       "      <td>0</td>\n",
       "      <td>4716.0</td>\n",
       "      <td>2.175</td>\n",
       "      <td>816</td>\n",
       "      <td>28</td>\n",
       "      <td>2.500</td>\n",
       "      <td>0.000</td>\n",
       "    </tr>\n",
       "  </tbody>\n",
       "</table>\n",
       "</div>"
      ],
      "text/plain": [
       "      Attrition_Flag  Customer_Age Gender  Dependent_count Education_Level  \\\n",
       "0  Existing Customer            45      M                3     High School   \n",
       "1  Existing Customer            49      F                5        Graduate   \n",
       "2  Existing Customer            51      M                3        Graduate   \n",
       "3  Existing Customer            40      F                4     High School   \n",
       "4  Existing Customer            40      M                3      Uneducated   \n",
       "\n",
       "  Marital_Status Income_Category Card_Category  Months_on_book  \\\n",
       "0        Married     $60K - $80K          Blue              39   \n",
       "1         Single  Less than $40K          Blue              44   \n",
       "2        Married    $80K - $120K          Blue              36   \n",
       "3        Unknown  Less than $40K          Blue              34   \n",
       "4        Married     $60K - $80K          Blue              21   \n",
       "\n",
       "   Total_Relationship_Count  Months_Inactive_12_mon  Contacts_Count_12_mon  \\\n",
       "0                         5                       1                      3   \n",
       "1                         6                       1                      2   \n",
       "2                         4                       1                      0   \n",
       "3                         3                       4                      1   \n",
       "4                         5                       1                      0   \n",
       "\n",
       "   Credit_Limit  Total_Revolving_Bal  Avg_Open_To_Buy  Total_Amt_Chng_Q4_Q1  \\\n",
       "0       12691.0                  777          11914.0                 1.335   \n",
       "1        8256.0                  864           7392.0                 1.541   \n",
       "2        3418.0                    0           3418.0                 2.594   \n",
       "3        3313.0                 2517            796.0                 1.405   \n",
       "4        4716.0                    0           4716.0                 2.175   \n",
       "\n",
       "   Total_Trans_Amt  Total_Trans_Ct  Total_Ct_Chng_Q4_Q1  Avg_Utilization_Ratio  \n",
       "0             1144              42                1.625                  0.061  \n",
       "1             1291              33                3.714                  0.105  \n",
       "2             1887              20                2.333                  0.000  \n",
       "3             1171              20                2.333                  0.760  \n",
       "4              816              28                2.500                  0.000  "
      ]
     },
     "execution_count": 9,
     "metadata": {},
     "output_type": "execute_result"
    }
   ],
   "source": [
    "df.head()"
   ]
  },
  {
   "cell_type": "code",
   "execution_count": 10,
   "id": "fea55633",
   "metadata": {},
   "outputs": [
    {
     "data": {
      "text/plain": [
       "Index(['Attrition_Flag', 'Customer_Age', 'Gender', 'Dependent_count',\n",
       "       'Education_Level', 'Marital_Status', 'Income_Category', 'Card_Category',\n",
       "       'Months_on_book', 'Total_Relationship_Count', 'Months_Inactive_12_mon',\n",
       "       'Contacts_Count_12_mon', 'Credit_Limit', 'Total_Revolving_Bal',\n",
       "       'Avg_Open_To_Buy', 'Total_Amt_Chng_Q4_Q1', 'Total_Trans_Amt',\n",
       "       'Total_Trans_Ct', 'Total_Ct_Chng_Q4_Q1', 'Avg_Utilization_Ratio'],\n",
       "      dtype='object')"
      ]
     },
     "execution_count": 10,
     "metadata": {},
     "output_type": "execute_result"
    }
   ],
   "source": [
    "df.columns"
   ]
  },
  {
   "cell_type": "code",
   "execution_count": 11,
   "id": "ebcc7d35",
   "metadata": {},
   "outputs": [
    {
     "name": "stdout",
     "output_type": "stream",
     "text": [
      "<class 'pandas.core.frame.DataFrame'>\n",
      "RangeIndex: 10127 entries, 0 to 10126\n",
      "Data columns (total 20 columns):\n",
      " #   Column                    Non-Null Count  Dtype  \n",
      "---  ------                    --------------  -----  \n",
      " 0   Attrition_Flag            10127 non-null  object \n",
      " 1   Customer_Age              10127 non-null  int64  \n",
      " 2   Gender                    10127 non-null  object \n",
      " 3   Dependent_count           10127 non-null  int64  \n",
      " 4   Education_Level           10127 non-null  object \n",
      " 5   Marital_Status            10127 non-null  object \n",
      " 6   Income_Category           10127 non-null  object \n",
      " 7   Card_Category             10127 non-null  object \n",
      " 8   Months_on_book            10127 non-null  int64  \n",
      " 9   Total_Relationship_Count  10127 non-null  int64  \n",
      " 10  Months_Inactive_12_mon    10127 non-null  int64  \n",
      " 11  Contacts_Count_12_mon     10127 non-null  int64  \n",
      " 12  Credit_Limit              10127 non-null  float64\n",
      " 13  Total_Revolving_Bal       10127 non-null  int64  \n",
      " 14  Avg_Open_To_Buy           10127 non-null  float64\n",
      " 15  Total_Amt_Chng_Q4_Q1      10127 non-null  float64\n",
      " 16  Total_Trans_Amt           10127 non-null  int64  \n",
      " 17  Total_Trans_Ct            10127 non-null  int64  \n",
      " 18  Total_Ct_Chng_Q4_Q1       10127 non-null  float64\n",
      " 19  Avg_Utilization_Ratio     10127 non-null  float64\n",
      "dtypes: float64(5), int64(9), object(6)\n",
      "memory usage: 1.5+ MB\n"
     ]
    }
   ],
   "source": [
    "df.info()"
   ]
  },
  {
   "cell_type": "code",
   "execution_count": 12,
   "id": "28c343d0",
   "metadata": {},
   "outputs": [],
   "source": [
    "df.drop(['Attrition_Flag'],axis=1,inplace=True)"
   ]
  },
  {
   "cell_type": "code",
   "execution_count": 13,
   "id": "d5e08349",
   "metadata": {},
   "outputs": [],
   "source": [
    "df_ohe=pd.get_dummies(df)"
   ]
  },
  {
   "cell_type": "code",
   "execution_count": 35,
   "id": "5543dfce",
   "metadata": {},
   "outputs": [
    {
     "data": {
      "text/plain": [
       "Customer_Age                  45\n",
       "Gender                         2\n",
       "Dependent_count                6\n",
       "Education_Level                7\n",
       "Marital_Status                 4\n",
       "Income_Category                6\n",
       "Card_Category                  4\n",
       "Months_on_book                44\n",
       "Total_Relationship_Count       6\n",
       "Months_Inactive_12_mon         7\n",
       "Contacts_Count_12_mon          7\n",
       "Credit_Limit                6205\n",
       "Total_Revolving_Bal         1974\n",
       "Avg_Open_To_Buy             6813\n",
       "Total_Amt_Chng_Q4_Q1        1158\n",
       "Total_Trans_Amt             5033\n",
       "Total_Trans_Ct               126\n",
       "Total_Ct_Chng_Q4_Q1          830\n",
       "Avg_Utilization_Ratio        964\n",
       "dtype: int64"
      ]
     },
     "execution_count": 35,
     "metadata": {},
     "output_type": "execute_result"
    }
   ],
   "source": [
    "df.nunique()"
   ]
  },
  {
   "cell_type": "code",
   "execution_count": 14,
   "id": "118b1ff0",
   "metadata": {},
   "outputs": [
    {
     "data": {
      "text/plain": [
       "(10127, 37)"
      ]
     },
     "execution_count": 14,
     "metadata": {},
     "output_type": "execute_result"
    }
   ],
   "source": [
    "df_ohe.shape"
   ]
  },
  {
   "cell_type": "markdown",
   "id": "36d689ab",
   "metadata": {},
   "source": [
    "# Standarize the data"
   ]
  },
  {
   "cell_type": "code",
   "execution_count": 16,
   "id": "12754671",
   "metadata": {},
   "outputs": [],
   "source": [
    "from sklearn.preprocessing import StandardScaler"
   ]
  },
  {
   "cell_type": "code",
   "execution_count": 17,
   "id": "9900301f",
   "metadata": {},
   "outputs": [],
   "source": [
    "z_ohe_std = StandardScaler().fit_transform(df_ohe)"
   ]
  },
  {
   "cell_type": "markdown",
   "id": "075bc7b7",
   "metadata": {},
   "source": [
    "#Apply PCA"
   ]
  },
  {
   "cell_type": "code",
   "execution_count": 18,
   "id": "849254be",
   "metadata": {},
   "outputs": [],
   "source": [
    "from sklearn.decomposition import PCA"
   ]
  },
  {
   "cell_type": "code",
   "execution_count": 20,
   "id": "4038bdea",
   "metadata": {},
   "outputs": [],
   "source": [
    "pca = PCA(random_state = 42)"
   ]
  },
  {
   "cell_type": "code",
   "execution_count": 21,
   "id": "8cf750aa",
   "metadata": {},
   "outputs": [
    {
     "data": {
      "text/plain": [
       "PCA(random_state=42)"
      ]
     },
     "execution_count": 21,
     "metadata": {},
     "output_type": "execute_result"
    }
   ],
   "source": [
    "pca.fit(z_ohe_std)"
   ]
  },
  {
   "cell_type": "code",
   "execution_count": 22,
   "id": "128d5139",
   "metadata": {},
   "outputs": [],
   "source": [
    "trans_data = pca.transform(z_ohe_std)"
   ]
  },
  {
   "cell_type": "code",
   "execution_count": 23,
   "id": "fba46de2",
   "metadata": {},
   "outputs": [
    {
     "data": {
      "text/plain": [
       "numpy.ndarray"
      ]
     },
     "execution_count": 23,
     "metadata": {},
     "output_type": "execute_result"
    }
   ],
   "source": [
    "type(trans_data)"
   ]
  },
  {
   "cell_type": "code",
   "execution_count": 24,
   "id": "08ae7bee",
   "metadata": {},
   "outputs": [],
   "source": [
    "df_trans = pd.DataFrame(trans_data)"
   ]
  },
  {
   "cell_type": "code",
   "execution_count": 25,
   "id": "683a42a2",
   "metadata": {},
   "outputs": [
    {
     "data": {
      "text/html": [
       "<div>\n",
       "<style scoped>\n",
       "    .dataframe tbody tr th:only-of-type {\n",
       "        vertical-align: middle;\n",
       "    }\n",
       "\n",
       "    .dataframe tbody tr th {\n",
       "        vertical-align: top;\n",
       "    }\n",
       "\n",
       "    .dataframe thead th {\n",
       "        text-align: right;\n",
       "    }\n",
       "</style>\n",
       "<table border=\"1\" class=\"dataframe\">\n",
       "  <thead>\n",
       "    <tr style=\"text-align: right;\">\n",
       "      <th></th>\n",
       "      <th>0</th>\n",
       "      <th>1</th>\n",
       "      <th>2</th>\n",
       "      <th>3</th>\n",
       "      <th>4</th>\n",
       "      <th>5</th>\n",
       "      <th>6</th>\n",
       "      <th>7</th>\n",
       "      <th>8</th>\n",
       "      <th>9</th>\n",
       "      <th>...</th>\n",
       "      <th>27</th>\n",
       "      <th>28</th>\n",
       "      <th>29</th>\n",
       "      <th>30</th>\n",
       "      <th>31</th>\n",
       "      <th>32</th>\n",
       "      <th>33</th>\n",
       "      <th>34</th>\n",
       "      <th>35</th>\n",
       "      <th>36</th>\n",
       "    </tr>\n",
       "  </thead>\n",
       "  <tbody>\n",
       "    <tr>\n",
       "      <th>0</th>\n",
       "      <td>1.499179</td>\n",
       "      <td>-2.381809</td>\n",
       "      <td>-1.206188</td>\n",
       "      <td>-0.896605</td>\n",
       "      <td>1.532537</td>\n",
       "      <td>0.745319</td>\n",
       "      <td>2.989269</td>\n",
       "      <td>1.567728</td>\n",
       "      <td>0.589484</td>\n",
       "      <td>3.465206</td>\n",
       "      <td>...</td>\n",
       "      <td>0.004412</td>\n",
       "      <td>-0.388781</td>\n",
       "      <td>-0.127122</td>\n",
       "      <td>-0.004202</td>\n",
       "      <td>-5.918024e-16</td>\n",
       "      <td>6.597876e-17</td>\n",
       "      <td>-5.213281e-16</td>\n",
       "      <td>5.199381e-16</td>\n",
       "      <td>5.806605e-16</td>\n",
       "      <td>-2.142044e-16</td>\n",
       "    </tr>\n",
       "    <tr>\n",
       "      <th>1</th>\n",
       "      <td>-1.363516</td>\n",
       "      <td>0.652538</td>\n",
       "      <td>-1.519134</td>\n",
       "      <td>-1.460651</td>\n",
       "      <td>0.906348</td>\n",
       "      <td>3.581272</td>\n",
       "      <td>4.943736</td>\n",
       "      <td>8.011494</td>\n",
       "      <td>-0.185840</td>\n",
       "      <td>4.069410</td>\n",
       "      <td>...</td>\n",
       "      <td>0.758259</td>\n",
       "      <td>-0.107259</td>\n",
       "      <td>-0.518094</td>\n",
       "      <td>0.583235</td>\n",
       "      <td>-7.167025e-16</td>\n",
       "      <td>-6.070940e-16</td>\n",
       "      <td>-4.935726e-16</td>\n",
       "      <td>9.917829e-16</td>\n",
       "      <td>2.753491e-16</td>\n",
       "      <td>-7.195709e-17</td>\n",
       "    </tr>\n",
       "    <tr>\n",
       "      <th>2</th>\n",
       "      <td>0.943141</td>\n",
       "      <td>-2.251733</td>\n",
       "      <td>-2.375227</td>\n",
       "      <td>-2.286540</td>\n",
       "      <td>2.498943</td>\n",
       "      <td>1.357723</td>\n",
       "      <td>4.412302</td>\n",
       "      <td>7.613436</td>\n",
       "      <td>0.401673</td>\n",
       "      <td>3.873443</td>\n",
       "      <td>...</td>\n",
       "      <td>-0.194322</td>\n",
       "      <td>0.642761</td>\n",
       "      <td>-0.293466</td>\n",
       "      <td>0.481017</td>\n",
       "      <td>-2.201626e-15</td>\n",
       "      <td>1.214899e-16</td>\n",
       "      <td>-2.021390e-16</td>\n",
       "      <td>1.408117e-15</td>\n",
       "      <td>-8.071183e-16</td>\n",
       "      <td>4.831544e-16</td>\n",
       "    </tr>\n",
       "    <tr>\n",
       "      <th>3</th>\n",
       "      <td>-2.504815</td>\n",
       "      <td>0.208400</td>\n",
       "      <td>-2.349401</td>\n",
       "      <td>-1.385722</td>\n",
       "      <td>1.728369</td>\n",
       "      <td>3.194159</td>\n",
       "      <td>3.827787</td>\n",
       "      <td>2.319379</td>\n",
       "      <td>-0.817034</td>\n",
       "      <td>1.243960</td>\n",
       "      <td>...</td>\n",
       "      <td>0.419959</td>\n",
       "      <td>-0.118575</td>\n",
       "      <td>-0.312310</td>\n",
       "      <td>0.732271</td>\n",
       "      <td>-8.277248e-16</td>\n",
       "      <td>3.528712e-18</td>\n",
       "      <td>-1.159706e-15</td>\n",
       "      <td>5.754493e-16</td>\n",
       "      <td>1.088157e-16</td>\n",
       "      <td>-8.144187e-16</td>\n",
       "    </tr>\n",
       "    <tr>\n",
       "      <th>4</th>\n",
       "      <td>0.841201</td>\n",
       "      <td>-2.136735</td>\n",
       "      <td>-3.821835</td>\n",
       "      <td>-0.558848</td>\n",
       "      <td>2.910290</td>\n",
       "      <td>1.343300</td>\n",
       "      <td>5.605490</td>\n",
       "      <td>5.199045</td>\n",
       "      <td>0.719516</td>\n",
       "      <td>4.802453</td>\n",
       "      <td>...</td>\n",
       "      <td>-0.293968</td>\n",
       "      <td>0.777825</td>\n",
       "      <td>0.033271</td>\n",
       "      <td>0.208344</td>\n",
       "      <td>-2.090603e-15</td>\n",
       "      <td>3.990457e-16</td>\n",
       "      <td>-1.327501e-16</td>\n",
       "      <td>9.085162e-16</td>\n",
       "      <td>2.554896e-17</td>\n",
       "      <td>9.792853e-16</td>\n",
       "    </tr>\n",
       "  </tbody>\n",
       "</table>\n",
       "<p>5 rows × 37 columns</p>\n",
       "</div>"
      ],
      "text/plain": [
       "         0         1         2         3         4         5         6   \\\n",
       "0  1.499179 -2.381809 -1.206188 -0.896605  1.532537  0.745319  2.989269   \n",
       "1 -1.363516  0.652538 -1.519134 -1.460651  0.906348  3.581272  4.943736   \n",
       "2  0.943141 -2.251733 -2.375227 -2.286540  2.498943  1.357723  4.412302   \n",
       "3 -2.504815  0.208400 -2.349401 -1.385722  1.728369  3.194159  3.827787   \n",
       "4  0.841201 -2.136735 -3.821835 -0.558848  2.910290  1.343300  5.605490   \n",
       "\n",
       "         7         8         9   ...        27        28        29        30  \\\n",
       "0  1.567728  0.589484  3.465206  ...  0.004412 -0.388781 -0.127122 -0.004202   \n",
       "1  8.011494 -0.185840  4.069410  ...  0.758259 -0.107259 -0.518094  0.583235   \n",
       "2  7.613436  0.401673  3.873443  ... -0.194322  0.642761 -0.293466  0.481017   \n",
       "3  2.319379 -0.817034  1.243960  ...  0.419959 -0.118575 -0.312310  0.732271   \n",
       "4  5.199045  0.719516  4.802453  ... -0.293968  0.777825  0.033271  0.208344   \n",
       "\n",
       "             31            32            33            34            35  \\\n",
       "0 -5.918024e-16  6.597876e-17 -5.213281e-16  5.199381e-16  5.806605e-16   \n",
       "1 -7.167025e-16 -6.070940e-16 -4.935726e-16  9.917829e-16  2.753491e-16   \n",
       "2 -2.201626e-15  1.214899e-16 -2.021390e-16  1.408117e-15 -8.071183e-16   \n",
       "3 -8.277248e-16  3.528712e-18 -1.159706e-15  5.754493e-16  1.088157e-16   \n",
       "4 -2.090603e-15  3.990457e-16 -1.327501e-16  9.085162e-16  2.554896e-17   \n",
       "\n",
       "             36  \n",
       "0 -2.142044e-16  \n",
       "1 -7.195709e-17  \n",
       "2  4.831544e-16  \n",
       "3 -8.144187e-16  \n",
       "4  9.792853e-16  \n",
       "\n",
       "[5 rows x 37 columns]"
      ]
     },
     "execution_count": 25,
     "metadata": {},
     "output_type": "execute_result"
    }
   ],
   "source": [
    "df_trans.head()"
   ]
  },
  {
   "cell_type": "code",
   "execution_count": 26,
   "id": "b51bf319",
   "metadata": {},
   "outputs": [
    {
     "data": {
      "text/plain": [
       "array([-0.010814  ,  0.03690782, -0.00569975, -0.04968909, -0.01225662,\n",
       "        0.01604026,  0.41301406, -0.03497158,  0.41606257,  0.00777227,\n",
       "        0.10086953,  0.04431799, -0.00690585, -0.26887566, -0.35526348,\n",
       "        0.35526348,  0.00437364, -0.00570635, -0.00411588,  0.00351391,\n",
       "        0.0051142 ,  0.0019621 , -0.00407465,  0.00748856, -0.0308069 ,\n",
       "        0.01759998,  0.01841902,  0.17270556, -0.04903117,  0.1392093 ,\n",
       "        0.21338946, -0.28487812, -0.04623576, -0.25785715,  0.11387706,\n",
       "        0.04730537,  0.22319999])"
      ]
     },
     "execution_count": 26,
     "metadata": {},
     "output_type": "execute_result"
    }
   ],
   "source": [
    "pca.components_[0]"
   ]
  },
  {
   "cell_type": "code",
   "execution_count": 28,
   "id": "e226e39d",
   "metadata": {},
   "outputs": [
    {
     "data": {
      "text/plain": [
       "array([4.38319162e+02, 2.55089926e+02, 1.94779670e+02, 1.79297418e+02,\n",
       "       1.74412964e+02, 1.51587781e+02, 1.39051364e+02, 1.34739998e+02,\n",
       "       1.30010422e+02, 1.25563761e+02, 1.22568659e+02, 1.19566011e+02,\n",
       "       1.18156764e+02, 1.14999144e+02, 1.12522193e+02, 1.10224717e+02,\n",
       "       1.07141569e+02, 1.07066040e+02, 1.03674161e+02, 1.00679669e+02,\n",
       "       1.00410513e+02, 9.78443166e+01, 9.74222657e+01, 9.02166405e+01,\n",
       "       7.97646129e+01, 5.97956197e+01, 5.38940501e+01, 2.39311964e+01,\n",
       "       2.09956482e+01, 2.03143179e+01, 1.63248224e+01, 8.64432128e-29,\n",
       "       2.69117622e-29, 1.70264547e-29, 1.33128831e-29, 9.77487916e-30,\n",
       "       3.63229219e-30])"
      ]
     },
     "execution_count": 28,
     "metadata": {},
     "output_type": "execute_result"
    }
   ],
   "source": [
    "pca.explained_variance_*100"
   ]
  },
  {
   "cell_type": "code",
   "execution_count": 34,
   "id": "ac789fc6",
   "metadata": {},
   "outputs": [
    {
     "data": {
      "text/plain": [
       "[<matplotlib.lines.Line2D at 0x2014478f5e0>]"
      ]
     },
     "execution_count": 34,
     "metadata": {},
     "output_type": "execute_result"
    },
    {
     "data": {
      "image/png": "[encoded data removed]",
      "text/plain": [
       "<Figure size 432x288 with 1 Axes>"
      ]
     },
     "metadata": {
      "needs_background": "light"
     },
     "output_type": "display_data"
    }
   ],
   "source": [
    "import matplotlib.pyplot as plt\n",
    "plt.plot(list(range(df_ohe.shape[1])), pca.explained_variance_)\n"
   ]
  },
  {
   "cell_type": "markdown",
   "id": "8e9eacca",
   "metadata": {},
   "source": [
    "#automated way of pca component"
   ]
  },
  {
   "cell_type": "code",
   "execution_count": 30,
   "id": "d04e6614",
   "metadata": {},
   "outputs": [],
   "source": [
    "pca1 = PCA(n_components =0.95,random_state =42)"
   ]
  },
  {
   "cell_type": "code",
   "execution_count": 31,
   "id": "2c233a58",
   "metadata": {},
   "outputs": [
    {
     "data": {
      "text/plain": [
       "PCA(n_components=0.95, random_state=42)"
      ]
     },
     "execution_count": 31,
     "metadata": {},
     "output_type": "execute_result"
    }
   ],
   "source": [
    "pca1.fit(z_ohe_std)"
   ]
  },
  {
   "cell_type": "code",
   "execution_count": 32,
   "id": "2be7bdb8",
   "metadata": {},
   "outputs": [
    {
     "name": "stderr",
     "output_type": "stream",
     "text": [
      "C:\\python3.10\\lib\\site-packages\\sklearn\\base.py:443: UserWarning: X has feature names, but PCA was fitted without feature names\n",
      "  warnings.warn(\n"
     ]
    }
   ],
   "source": [
    "trans_data = pca1.transform(df_ohe)"
   ]
  },
  {
   "cell_type": "code",
   "execution_count": 33,
   "id": "4567440a",
   "metadata": {},
   "outputs": [
    {
     "data": {
      "text/plain": [
       "(10127, 26)"
      ]
     },
     "execution_count": 33,
     "metadata": {},
     "output_type": "execute_result"
    }
   ],
   "source": [
    "trans_data.shape"
   ]
  },
  {
   "cell_type": "code",
   "execution_count": null,
   "id": "088134f2",
   "metadata": {},
   "outputs": [],
   "source": []
  }
 ],
 "metadata": {
  "kernelspec": {
   "display_name": "Python 3 (ipykernel)",
   "language": "python",
   "name": "python3"
  },
  "language_info": {
   "codemirror_mode": {
    "name": "ipython",
    "version": 3
   },
   "file_extension": ".py",
   "mimetype": "text/x-python",
   "name": "python",
   "nbconvert_exporter": "python",
   "pygments_lexer": "ipython3",
   "version": "3.10.1"
  }
 },
 "nbformat": 4,
 "nbformat_minor": 5
}
